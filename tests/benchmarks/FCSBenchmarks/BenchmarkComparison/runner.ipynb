{
 "cells": [
  {
   "cell_type": "code",
   "execution_count": null,
   "metadata": {
    "dotnet_interactive": {
     "language": "fsharp"
    },
    "vscode": {
     "languageId": "dotnet-interactive.fsharp"
    }
   },
   "outputs": [],
   "source": [
    "#r \"nuget: Plotly.NET, 3.0.0\"\n",
    "#r \"nuget: Plotly.NET.Interactive, 3.0.0\"\n",
    "#r \"nuget: Microsoft.Data.Analysis, 0.18.0\""
   ]
  },
  {
   "cell_type": "code",
   "execution_count": null,
   "metadata": {
    "vscode": {
     "languageId": "dotnet-interactive.fsharp"
    }
   },
   "outputs": [],
   "source": [
    "\n",
    "open System.IO\n",
    "open System.Diagnostics\n",
    "open Microsoft.Data.Analysis\n",
    "open Plotly.NET\n",
    "open Newtonsoft.Json\n",
    "open Newtonsoft.Json.Linq\n",
    "\n",
    "let run name args workingDir =\n",
    "    let info = ProcessStartInfo()\n",
    "    info.WindowStyle <- ProcessWindowStyle.Hidden\n",
    "    info.Arguments <- args\n",
    "    info.FileName <- name\n",
    "    info.UseShellExecute <- false\n",
    "    info.WorkingDirectory <- workingDir\n",
    "    info.RedirectStandardError <- true\n",
    "    info.RedirectStandardOutput <- true\n",
    "    info.RedirectStandardInput <- true\n",
    "    info.CreateNoWindow <- true\n",
    "    printfn $\"Run {name} {args} in {workingDir}\"\n",
    "    let p = Process.Start(info)\n",
    "    let o = p.StandardOutput.ReadToEnd()\n",
    "    let errors = p.StandardError.ReadToEnd()\n",
    "    p.WaitForExit()\n",
    "    printfn \"%A\" o\n",
    "    if p.ExitCode <> 0 then\n",
    "        failwith $\"Process {name} {args} failed: {errors}.\"\n",
    "\n",
    "type FCSVersion =\n",
    "    | Local\n",
    "    | NuGet of string\n",
    "    | Git of string\n",
    "    override this.ToString() =\n",
    "        match this with\n",
    "        | Local -> \"local\"\n",
    "        | NuGet version -> $\"v{version}\"\n",
    "        | Git revision -> $\"git_{revision}\"\n",
    "\n",
    "let getOutputDir (version : FCSVersion) =\n",
    "    Path.Combine(__SOURCE_DIRECTORY__, $\".artifacts/{version}\")\n",
    "\n",
    "let readResultsJson (version : FCSVersion) =\n",
    "    let baseDir = getOutputDir version\n",
    "    let resultsPath = Path.Combine(baseDir, @\"results/HistoricalBenchmark.DecentlySizedStandAloneFileBenchmark-report.json\")\n",
    "    let json = File.ReadAllText(resultsPath)\n",
    "    JsonConvert.DeserializeObject<JObject>(json)\n",
    "\n",
    "let runBenchmark (version : FCSVersion) (msBuildArgs : (string * string) list) =\n",
    "    msBuildArgs\n",
    "    |> List.iter (fun (key, value) ->\n",
    "        Environment.SetEnvironmentVariable(key, value)\n",
    "    )\n",
    "    run \"dotnet\" $\"build -c Release HistoricalBenchmark.fsproj\" __SOURCE_DIRECTORY__\n",
    "    let outputDir = getOutputDir version\n",
    "    run \"dotnet\" $\"run -c Release --no-build --project HistoricalBenchmark.fsproj -- --filter *DecentlySizedStandAloneFileBenchmark* -a {outputDir}\" __SOURCE_DIRECTORY__\n",
    "\n",
    "let benchmarkCurrent (name : string) =\n",
    "    let version = FCSVersion.Local\n",
    "    printfn $\"Benchmarking '{version}'...\"\n",
    "    let msBuildArgs =\n",
    "        [\n",
    "            \"FcsReferenceType\", \"project\"\n",
    "            \"FcsProjectPath\", @\"..\\..\\..\\..\\src\\Compiler\\FSharp.Compiler.Service.fsproj\"\n",
    "            \"DefineConstants\", \"\"\n",
    "        ]\n",
    "    runBenchmark version msBuildArgs\n",
    "    printfn $\"'{version}' Done\"\n",
    "    name, version\n",
    "\n",
    "let benchmarkVersion (name: string) (version: string) (constants: string) =\n",
    "    let fcsVersion = FCSVersion.NuGet version\n",
    "    printfn $\"Benchmarking '{version}'...\"\n",
    "    let msBuildArgs =\n",
    "        [\n",
    "            \"FcsReferenceType\", \"nuget\"\n",
    "            \"FcsNuGetVersion\", version\n",
    "            \"DefineConstants\", constants\n",
    "        ]\n",
    "    runBenchmark fcsVersion msBuildArgs\n",
    "    printfn $\"'{version}' Done\"\n",
    "    name, fcsVersion\n",
    "\n",
    "[<RequireQualifiedAccess>]\n",
    "type UseVisualStudio =\n",
    "    | Yes\n",
    "    | No\n",
    "\n",
    "let benchmarkCommit (commitHash: string) (useVisualStudio : UseVisualStudio) =\n",
    "    let version = FCSVersion.Git commitHash\n",
    "    printfn $\"Benchmarking '{version}'...\"\n",
    "    let tmp = Path.GetTempFileName()\n",
    "    try File.Delete(tmp) with | _ -> ()\n",
    "    let tmpDir = Path.Combine(Path.GetDirectoryName(tmp), Path.GetFileNameWithoutExtension(tmp))\n",
    "    Directory.CreateDirectory(tmpDir) |> ignore\n",
    "\n",
    "    try\n",
    "        let fcsOutputPath = Path.Combine(tmpDir, \"artifacts/bin/FSharp.Compiler.Service/Release/netstandard2.0/FSharp.Compiler.Service.dll\")\n",
    "\n",
    "        printfn $\"Cloning 'dotnet/fsharp.git' in '{tmpDir}'...\"\n",
    "        run \"git\" $\"clone https://github.com/dotnet/fsharp.git {tmpDir}\" __SOURCE_DIRECTORY__\n",
    "        printfn $\"Switching to '{commitHash}'...\"\n",
    "        run \"git\" $\"reset --hard {commitHash}\" tmpDir\n",
    "        printfn \"Building fsharp...\"\n",
    "        let vsArg = match useVisualStudio with | UseVisualStudio.Yes -> \"\" | UseVisualStudio.No -> \" -noVisualStudio\"\n",
    "        run \"cmd\" $\"/C build.cmd -c Release {vsArg}\" tmpDir\n",
    "        \n",
    "        printfn $\"Benchmarking {version}...\"\n",
    "        let msBuildArgs =\n",
    "            [\n",
    "                \"FcsReferenceType\", \"dll\"\n",
    "                \"FcsDllPath\", fcsOutputPath\n",
    "                \"DefineConstants\", \"\"\n",
    "            ]\n",
    "        runBenchmark version msBuildArgs\n",
    "\n",
    "        printfn $\"'{version}' Done\"\n",
    "        commitHash, version\n",
    "    finally\n",
    "        try Directory.Delete(tmpDir) with | _ -> ()"
   ]
  },
  {
   "cell_type": "code",
   "execution_count": null,
   "metadata": {
    "dotnet_interactive": {
     "language": "fsharp"
    },
    "vscode": {
     "languageId": "dotnet-interactive.fsharp"
    }
   },
   "outputs": [],
   "source": [
    "let benchmarkCommit' commit = benchmarkCommit commit UseVisualStudio.No\n",
    "let runs =\n",
    "    [\n",
    "      // Note: SERVICE_30_0_0 and SERVICE_13_0_0 refer to define constants in order to build the benchmark on older versions.\n",
    "      benchmarkCurrent \"local\"\n",
    "\n",
    "      benchmarkCommit' \"a901fe2862dce0644ac8104d24e51e664b2d553f\"\n",
    "      //benchmarkCommit' \"81d1d918740e9ba3cb2eb063b6f28c3139ca9cfa\"\n",
    "      //benchmarkCommit' \"1d36c75225436f8a7d30c4691f20d6118b657fec\"\n",
    "      //benchmarkCommit' \"2e4096153972abedae142da85cac2ffbcf57fe0a\"\n",
    "      //benchmarkCommit' \"af6ff33b5bc15951a6854bdf3b226db8f0e28b56\"\n",
    "      \n",
    "      benchmarkVersion \"41.0.5 (6/14/2022)\" \"40.0.0\" \"\"\n",
    "      benchmarkVersion \"40.0.0 (6/22/2021)\" \"40.0.0\" \"\"\n",
    "      benchmarkVersion \"35.0.0 (4/10/2020)\" \"35.0.0\" \"SERVICE_30_0_0\"\n",
    "      benchmarkVersion \"30.0.0 (6/29/2019)\" \"30.0.0\" \"SERVICE_30_0_0\"\n",
    "      benchmarkVersion \"25.0.1 (9/5/2018)\" \"25.0.1\" \"SERVICE_13_0_0\"\n",
    "      benchmarkVersion \"20.0.1 (2/21/2018)\" \"20.0.1\" \"SERVICE_13_0_0\"\n",
    "      benchmarkVersion \"13.0.0 (6/28/2017)\" \"13.0.0\" \"SERVICE_13_0_0\"\n",
    "    ]"
   ]
  },
  {
   "cell_type": "code",
   "execution_count": null,
   "metadata": {
    "dotnet_interactive": {
     "language": "fsharp"
    },
    "vscode": {
     "languageId": "dotnet-interactive.fsharp"
    }
   },
   "outputs": [],
   "source": [
    "let extractResultsData (results : JObject) =\n",
    "    let benchmark = results[\"Benchmarks\"][0]\n",
    "    let stats = benchmark[\"Statistics\"]\n",
    "    let mean = stats[\"Mean\"].ToString() |> Double.Parse\n",
    "    let metrics = benchmark[\"Metrics\"] :?> JArray\n",
    "    let am =\n",
    "        metrics\n",
    "        |> Seq.find (fun m -> (m[\"Descriptor\"][\"Id\"]).ToString() = \"Allocated Memory\")\n",
    "        |> fun m -> m[\"Value\"].ToString() |> Double.Parse\n",
    "        \n",
    "    mean, am\n",
    "\n",
    "let fullResults =\n",
    "    runs\n",
    "    |> List.map (fun (name, version) -> name, readResultsJson version)\n",
    "let results =\n",
    "    fullResults\n",
    "    |> List.map (fun (name, fullResult) ->\n",
    "        name, extractResultsData fullResult\n",
    "    )\n",
    "\n",
    "let x =\n",
    "     results\n",
    "     |> List.map (fun (name, _) -> name)\n",
    "let y1 =\n",
    "    results\n",
    "    |> List.map (fun (name, (mean, allocated)) -> Math.Round(mean / 1000000.0, 2))\n",
    "let meanData = (x, y1) ||> List.zip |> List.rev\n",
    "let y2 =\n",
    "    results\n",
    "    |> List.map (fun (name, (mean, allocated)) -> Math.Round(allocated / 1024.0 / 1024.0, 2))\n",
    "let allocatedData = (x, y2) ||> List.zip |> List.rev\n",
    "\n",
    "// Charts\n",
    "\n",
    "let meanLine = Chart.Line(meanData, Name=\"Mean (ms)\")\n",
    "let allocatedLine = Chart.Line(allocatedData, Name=\"Allocated (MB)\")\n",
    "\n",
    "Chart.combine([meanLine;allocatedLine])"
   ]
  },
  {
   "cell_type": "code",
   "execution_count": null,
   "metadata": {
    "dotnet_interactive": {
     "language": "fsharp"
    },
    "vscode": {
     "languageId": "dotnet-interactive.fsharp"
    }
   },
   "outputs": [],
   "source": []
  }
 ],
 "metadata": {
  "kernelspec": {
   "display_name": ".NET (C#)",
   "language": "C#",
   "name": ".net-csharp"
  },
  "language_info": {
   "file_extension": ".cs",
   "mimetype": "text/x-csharp",
   "name": "C#",
   "pygments_lexer": "csharp",
   "version": "9.0"
  },
  "orig_nbformat": 4
 },
 "nbformat": 4,
 "nbformat_minor": 2
}
