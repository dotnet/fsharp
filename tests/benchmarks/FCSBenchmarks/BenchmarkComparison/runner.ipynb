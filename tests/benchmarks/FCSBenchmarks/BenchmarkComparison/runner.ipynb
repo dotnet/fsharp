{
 "cells": [
  {
   "cell_type": "code",
   "execution_count": null,
   "metadata": {
    "dotnet_interactive": {
     "language": "fsharp"
    },
    "vscode": {
     "languageId": "dotnet-interactive.fsharp"
    }
   },
   "outputs": [
    {
     "data": {
      "text/html": [
       "<div><div></div><div></div><div><strong>Installed Packages</strong><ul><li><span>Microsoft.Data.Analysis, 0.18.0</span></li><li><span>Plotly.NET, 3.0.0</span></li><li><span>Plotly.NET.Interactive, 3.0.0</span></li></ul></div></div>"
      ]
     },
     "metadata": {},
     "output_type": "display_data"
    },
    {
     "data": {
      "text/markdown": [
       "Loading extensions from `Microsoft.Data.Analysis.Interactive.dll`"
      ]
     },
     "metadata": {},
     "output_type": "display_data"
    },
    {
     "data": {
      "text/markdown": [
       "Loading extensions from `Plotly.NET.Interactive.dll`"
      ]
     },
     "metadata": {},
     "output_type": "display_data"
    }
   ],
   "source": [
    "#r \"nuget: Plotly.NET, 3.0.0\"\n",
    "#r \"nuget: Plotly.NET.Interactive, 3.0.0\"\n",
    "#r \"nuget: Microsoft.Data.Analysis, 0.18.0\""
   ]
  },
  {
   "cell_type": "code",
   "execution_count": null,
   "metadata": {
    "dotnet_interactive": {
     "language": "fsharp"
    },
    "vscode": {
     "languageId": "dotnet-interactive.fsharp"
    }
   },
   "outputs": [],
   "source": [
    "\n",
    "open System.IO\n",
    "open System.Diagnostics\n",
    "open Microsoft.Data.Analysis\n",
    "open Plotly.NET\n",
    "\n",
    "let parseMilliseconds (str: string) =\n",
    "    if str.Contains(\" ms\") then\n",
    "        Single.Parse(str.Replace(\" ms\", \"\"))\n",
    "    elif str.Contains(\" s\") then\n",
    "        Single.Parse(str.Replace(\" s\", \"\")) * 1000.f\n",
    "    else\n",
    "        failwith \"Invalid string\"\n",
    "\n",
    "let parseAllocated (str: string) =\n",
    "    if str.Contains(\" MB\") then\n",
    "        Single.Parse(str.Replace(\" MB\", \"\"))\n",
    "    elif str.Contains(\" KB\") then\n",
    "        Single.Parse(str.Replace(\" KB\", \"\")) / 1024.f\n",
    "    else\n",
    "        failwith \"Invalid string\"\n",
    "\n",
    "let run name args workingDir =\n",
    "    let info = ProcessStartInfo()\n",
    "    info.WindowStyle <- ProcessWindowStyle.Hidden\n",
    "    info.Arguments <- args\n",
    "    info.FileName <- name\n",
    "    info.UseShellExecute <- false\n",
    "    info.WorkingDirectory <- workingDir\n",
    "    info.RedirectStandardError <- true\n",
    "    info.RedirectStandardOutput <- true\n",
    "    info.RedirectStandardInput <- true\n",
    "    info.CreateNoWindow <- true\n",
    "    printfn $\"Run {name} {args} in {workingDir}\"\n",
    "    let p = Process.Start(info)\n",
    "    let o = p.StandardOutput.ReadToEnd()\n",
    "    let errors = p.StandardError.ReadToEnd()\n",
    "    p.WaitForExit()\n",
    "    printfn \"%A\" o\n",
    "    if p.ExitCode <> 0 then\n",
    "        failwith $\"Process {name} {args} failed: {errors}.\"\n",
    "\n",
    "\n",
    "let resultsPath = Path.Combine(__SOURCE_DIRECTORY__, \"BenchmarkDotNet.Artifacts\\\\results\\\\BenchmarkComparison.TypeCheckingBenchmark1-report.csv\")\n",
    "\n",
    "let makeMSBuildPropsArgs (props : (string * string) list) =\n",
    "    props\n",
    "    |> List.filter (fun (prop, value) -> String.IsNullOrWhiteSpace(value) |> not)\n",
    "    |> List.map (fun (prop, value) -> $\"/p:{prop}='{value}'\")\n",
    "    |> fun args -> String.Join(\" \", args)\n",
    "\n",
    "let runBenchmark (msBuildArgs : (string * string) list) =\n",
    "    let msBuildArgsString = msBuildArgs |> makeMSBuildPropsArgs\n",
    "    run \"dotnet\" $\"build -c Release run.fsproj {msBuildArgsString}\" __SOURCE_DIRECTORY__\n",
    "    run \"dotnet\" $\"run -c Release --no-build --project run.fsproj -- --filter *\" __SOURCE_DIRECTORY__\n",
    "\n",
    "let benchmarkCurrent(): string * DataFrame =\n",
    "    printfn \"Benchmarking Current (Today)...\"\n",
    "    let msBuildArgs =\n",
    "        [\n",
    "            \"FcsReferenceType\", \"current\"\n",
    "        ]\n",
    "    runBenchmark msBuildArgs\n",
    "    let df = DataFrame.LoadCsv(resultsPath)\n",
    "    printfn \"Current (Today) Done\"\n",
    "    (\"Current (Today)\", df)\n",
    "\n",
    "let benchmarkVersion (name: string) (version: string) (constants: string): string * DataFrame =\n",
    "    printfn $\"Benchmarking {name}...\"\n",
    "    let msBuildArgs =\n",
    "        [\n",
    "            \"FcsReferenceType\", \"version\"\n",
    "            \"FcsVersion\", version\n",
    "            \"DefineConstants\", constants\n",
    "        ]\n",
    "    runBenchmark msBuildArgs\n",
    "\n",
    "    let df = DataFrame.LoadCsv(resultsPath)\n",
    "    printfn $\"{name} Done\"\n",
    "    (name, df)\n",
    "\n",
    "[<RequireQualifiedAccess>]\n",
    "type UseVisualStudio =\n",
    "    | Yes\n",
    "    | No\n",
    "\n",
    "let benchmarkCommit (commitHash: string) (constants: string) (useVisualStudio : UseVisualStudio): string * DataFrame =\n",
    "    let tmp = Path.GetTempFileName()\n",
    "    try File.Delete(tmp) with | _ -> ()\n",
    "    let tmpDir = Path.Combine(Path.GetDirectoryName(tmp), Path.GetFileNameWithoutExtension(tmp))\n",
    "    Directory.CreateDirectory(tmpDir) |> ignore\n",
    "\n",
    "    try\n",
    "        let fcsOutputPath = Path.Combine(tmpDir, \"artifacts/bin/FSharp.Compiler.Service/Release/netstandard2.0/FSharp.Compiler.Service.dll\")\n",
    "        let msBuildArgs =\n",
    "            [\n",
    "                \"FcsReferenceType\", \"commit\"\n",
    "                \"FcsPath\", fcsOutputPath\n",
    "            ]\n",
    "        printfn $\"Cloning 'dotnet/fsharp.git' in '{tmpDir}'...\"\n",
    "        run \"git\" $\"clone https://github.com/dotnet/fsharp.git {tmpDir}\" __SOURCE_DIRECTORY__\n",
    "        printfn $\"Switching to '{commitHash}'...\"\n",
    "        run \"git\" $\"reset --hard {commitHash}\" tmpDir\n",
    "        printfn \"Building fsharp...\"\n",
    "        let vsArg = match useVisualStudio with | UseVisualStudio.Yes -> \"\" | UseVisualStudio.No -> \" -noVisualStudio\"\n",
    "        run \"cmd\" $\"/C build.cmd -c Release {vsArg}\" tmpDir\n",
    "        printfn $\"Benchmarking {commitHash}...\"\n",
    "        runBenchmark msBuildArgs\n",
    "\n",
    "        let df = DataFrame.LoadCsv(resultsPath)\n",
    "        printfn $\"{commitHash} Done\"\n",
    "        (commitHash, df)\n",
    "    finally\n",
    "        try Directory.Delete(tmpDir) with | _ -> ()"
   ]
  },
  {
   "cell_type": "code",
   "execution_count": null,
   "metadata": {
    "dotnet_interactive": {
     "language": "fsharp"
    },
    "vscode": {
     "languageId": "dotnet-interactive.fsharp"
    }
   },
   "outputs": [
    {
     "name": "stdout",
     "output_type": "stream",
     "text": [
      "Benchmarking 40.0.0 (6/22/2021)...\r\n",
      "Run dotnet build -c Release run.fsproj '/p:FcsReferenceType=version' '/p:FcsVersion=40.0.0' in d:\\projekty\\fsharp\\tests\\benchmarks\\FCSBenchmarks\\BenchmarkComparison\r\n",
      "\"Microsoft (R) Build Engine version 17.2.0+41abc5629 for .NET\r\n",
      "Copyright (C) Microsoft Corporation. All rights reserved.\r\n",
      "\r\n",
      "MSBUILD : error MSB1008: Only one project can be specified.\r\n",
      "    Full command line: 'C:\\Program Files\\dotnet\\sdk\\6.0.301\\MSBuild.dll -maxcpucount -verbosity:m -restore -consoleloggerparameters:Summary -property:Configuration=Release run.fsproj '/p:FcsReferenceType=version' '/p:FcsVersion=40.0.0' -distributedlogger:Microsoft.DotNet.Tools.MSBuild.MSBuildLogger,C:\\Program Files\\dotnet\\sdk\\6.0.301\\dotnet.dll*Microsoft.DotNet.Tools.MSBuild.MSBuildForwardingLogger,C:\\Program Files\\dotnet\\sdk\\6.0.301\\dotnet.dll'\r\n",
      "  Switches appended by response files:\r\n",
      "Switch: '/p:FcsReferenceType=version'\r\n",
      "\r\n",
      "For switch syntax, type \"MSBuild -help\"\r\n",
      "\"\r\n"
     ]
    },
    {
     "ename": "Error",
     "evalue": "System.Exception: Process dotnet build -c Release run.fsproj '/p:FcsReferenceType=version' '/p:FcsVersion=40.0.0' failed: .\r\n   at FSI_0019.run(String name, String args, String workingDir)\r\n   at FSI_0019.runBenchmark(FSharpList`1 msBuildArgs)\r\n   at FSI_0019.benchmarkVersion(String name, String version, String constants)\r\n   at <StartupCode$FSI_0020>.$FSI_0020.main@()",
     "output_type": "error",
     "traceback": [
      "System.Exception: Process dotnet build -c Release run.fsproj '/p:FcsReferenceType=version' '/p:FcsVersion=40.0.0' failed: .\r\n",
      "   at FSI_0019.run(String name, String args, String workingDir)\r\n",
      "   at FSI_0019.runBenchmark(FSharpList`1 msBuildArgs)\r\n",
      "   at FSI_0019.benchmarkVersion(String name, String version, String constants)\r\n",
      "   at <StartupCode$FSI_0020>.$FSI_0020.main@()"
     ]
    }
   ],
   "source": [
    "let benchmarkData =\n",
    "    [\n",
    "        // Note: SERVICE_30_0_0 and SERVICE_13_0_0 refer to define constants in order to build the benchmark on older versions.\n",
    "      //benchmarkCurrent()\n",
    "      //benchmarkCommit doesn't fully work yet\n",
    "      //benchmarkCurrent()\n",
    "      //benchmarkCommit \"81d1d918740e9ba3cb2eb063b6f28c3139ca9cfa\" \"\" UseVisualStudio.No\n",
    "      //benchmarkCommit \"1d36c75225436f8a7d30c4691f20d6118b657fec\" \"\"\n",
    "      //benchmarkCommit \"2e4096153972abedae142da85cac2ffbcf57fe0a\" \"\"\n",
    "      //benchmarkCommit \"af6ff33b5bc15951a6854bdf3b226db8f0e28b56\" \"\"\n",
    "      benchmarkVersion \"40.0.0 (6/22/2021)\" \"40.0.0\" \"\"\n",
    "      // benchmarkVersion \"35.0.0 (4/10/2020)\" \"35.0.0\" \"SERVICE_30_0_0\"\n",
    "      // benchmarkVersion \"30.0.0 (6/29/2019)\" \"30.0.0\" \"SERVICE_30_0_0\"\n",
    "      // benchmarkVersion \"25.0.1 (9/5/2018)\" \"25.0.1\" \"SERVICE_13_0_0\"\n",
    "      // benchmarkVersion \"20.0.1 (2/21/2018)\" \"20.0.1\" \"SERVICE_13_0_0\"\n",
    "      // benchmarkVersion \"13.0.0 (6/28/2017)\" \"13.0.0\" \"SERVICE_13_0_0\"\n",
    "    ]"
   ]
  },
  {
   "cell_type": "code",
   "execution_count": null,
   "metadata": {
    "dotnet_interactive": {
     "language": "fsharp"
    },
    "vscode": {
     "languageId": "dotnet-interactive.fsharp"
    }
   },
   "outputs": [
    {
     "data": {
      "text/html": [
       "\r\n",
       "<div>\r\n",
       "    <div id=\"34777b40-7f55-4fea-8751-a6c2c8e843fd\"><!-- Plotly chart will be drawn inside this DIV --></div>\r\n",
       "<script type=\"text/javascript\">\r\n",
       "\r\n",
       "            var renderPlotly_34777b407f554fea8751a6c2c8e843fd = function() {\r\n",
       "            var fsharpPlotlyRequire = requirejs.config({context:'fsharp-plotly',paths:{plotly:'https://cdn.plot.ly/plotly-2.6.3.min'}}) || require;\r\n",
       "            fsharpPlotlyRequire(['plotly'], function(Plotly) {\r\n",
       "\r\n",
       "            var data = [{\"type\":\"scatter\",\"name\":\"Mean (ms)\",\"mode\":\"lines\",\"x\":[\"Current (Today)\"],\"y\":[2090.0],\"marker\":{},\"line\":{}},{\"type\":\"scatter\",\"name\":\"Allocated (MB)\",\"mode\":\"lines\",\"x\":[\"Current (Today)\"],\"y\":[169.0],\"marker\":{},\"line\":{}}];\r\n",
       "            var layout = {\"width\":600,\"height\":600,\"template\":{\"layout\":{\"title\":{\"x\":0.05},\"font\":{\"color\":\"rgba(42, 63, 95, 1.0)\"},\"paper_bgcolor\":\"rgba(255, 255, 255, 1.0)\",\"plot_bgcolor\":\"rgba(229, 236, 246, 1.0)\",\"autotypenumbers\":\"strict\",\"colorscale\":{\"diverging\":[[0.0,\"#8e0152\"],[0.1,\"#c51b7d\"],[0.2,\"#de77ae\"],[0.3,\"#f1b6da\"],[0.4,\"#fde0ef\"],[0.5,\"#f7f7f7\"],[0.6,\"#e6f5d0\"],[0.7,\"#b8e186\"],[0.8,\"#7fbc41\"],[0.9,\"#4d9221\"],[1.0,\"#276419\"]],\"sequential\":[[0.0,\"#0d0887\"],[0.1111111111111111,\"#46039f\"],[0.2222222222222222,\"#7201a8\"],[0.3333333333333333,\"#9c179e\"],[0.4444444444444444,\"#bd3786\"],[0.5555555555555556,\"#d8576b\"],[0.6666666666666666,\"#ed7953\"],[0.7777777777777778,\"#fb9f3a\"],[0.8888888888888888,\"#fdca26\"],[1.0,\"#f0f921\"]],\"sequentialminus\":[[0.0,\"#0d0887\"],[0.1111111111111111,\"#46039f\"],[0.2222222222222222,\"#7201a8\"],[0.3333333333333333,\"#9c179e\"],[0.4444444444444444,\"#bd3786\"],[0.5555555555555556,\"#d8576b\"],[0.6666666666666666,\"#ed7953\"],[0.7777777777777778,\"#fb9f3a\"],[0.8888888888888888,\"#fdca26\"],[1.0,\"#f0f921\"]]},\"hovermode\":\"closest\",\"hoverlabel\":{\"align\":\"left\"},\"coloraxis\":{\"colorbar\":{\"outlinewidth\":0.0,\"ticks\":\"\"}},\"geo\":{\"showland\":true,\"landcolor\":\"rgba(229, 236, 246, 1.0)\",\"showlakes\":true,\"lakecolor\":\"rgba(255, 255, 255, 1.0)\",\"subunitcolor\":\"rgba(255, 255, 255, 1.0)\",\"bgcolor\":\"rgba(255, 255, 255, 1.0)\"},\"mapbox\":{\"style\":\"light\"},\"polar\":{\"bgcolor\":\"rgba(229, 236, 246, 1.0)\",\"radialaxis\":{\"linecolor\":\"rgba(255, 255, 255, 1.0)\",\"gridcolor\":\"rgba(255, 255, 255, 1.0)\",\"ticks\":\"\"},\"angularaxis\":{\"linecolor\":\"rgba(255, 255, 255, 1.0)\",\"gridcolor\":\"rgba(255, 255, 255, 1.0)\",\"ticks\":\"\"}},\"scene\":{\"xaxis\":{\"ticks\":\"\",\"linecolor\":\"rgba(255, 255, 255, 1.0)\",\"gridcolor\":\"rgba(255, 255, 255, 1.0)\",\"gridwidth\":2.0,\"zerolinecolor\":\"rgba(255, 255, 255, 1.0)\",\"backgroundcolor\":\"rgba(229, 236, 246, 1.0)\",\"showbackground\":true},\"yaxis\":{\"ticks\":\"\",\"linecolor\":\"rgba(255, 255, 255, 1.0)\",\"gridcolor\":\"rgba(255, 255, 255, 1.0)\",\"gridwidth\":2.0,\"zerolinecolor\":\"rgba(255, 255, 255, 1.0)\",\"backgroundcolor\":\"rgba(229, 236, 246, 1.0)\",\"showbackground\":true},\"zaxis\":{\"ticks\":\"\",\"linecolor\":\"rgba(255, 255, 255, 1.0)\",\"gridcolor\":\"rgba(255, 255, 255, 1.0)\",\"gridwidth\":2.0,\"zerolinecolor\":\"rgba(255, 255, 255, 1.0)\",\"backgroundcolor\":\"rgba(229, 236, 246, 1.0)\",\"showbackground\":true}},\"ternary\":{\"aaxis\":{\"ticks\":\"\",\"linecolor\":\"rgba(255, 255, 255, 1.0)\",\"gridcolor\":\"rgba(255, 255, 255, 1.0)\"},\"baxis\":{\"ticks\":\"\",\"linecolor\":\"rgba(255, 255, 255, 1.0)\",\"gridcolor\":\"rgba(255, 255, 255, 1.0)\"},\"caxis\":{\"ticks\":\"\",\"linecolor\":\"rgba(255, 255, 255, 1.0)\",\"gridcolor\":\"rgba(255, 255, 255, 1.0)\"},\"bgcolor\":\"rgba(229, 236, 246, 1.0)\"},\"xaxis\":{\"title\":{\"standoff\":15},\"ticks\":\"\",\"automargin\":true,\"linecolor\":\"rgba(255, 255, 255, 1.0)\",\"gridcolor\":\"rgba(255, 255, 255, 1.0)\",\"zerolinecolor\":\"rgba(255, 255, 255, 1.0)\",\"zerolinewidth\":2.0},\"yaxis\":{\"title\":{\"standoff\":15},\"ticks\":\"\",\"automargin\":true,\"linecolor\":\"rgba(255, 255, 255, 1.0)\",\"gridcolor\":\"rgba(255, 255, 255, 1.0)\",\"zerolinecolor\":\"rgba(255, 255, 255, 1.0)\",\"zerolinewidth\":2.0},\"annotationdefaults\":{\"arrowcolor\":\"#2a3f5f\",\"arrowhead\":0,\"arrowwidth\":1},\"shapedefaults\":{\"line\":{\"color\":\"rgba(42, 63, 95, 1.0)\"}},\"colorway\":[\"rgba(99, 110, 250, 1.0)\",\"rgba(239, 85, 59, 1.0)\",\"rgba(0, 204, 150, 1.0)\",\"rgba(171, 99, 250, 1.0)\",\"rgba(255, 161, 90, 1.0)\",\"rgba(25, 211, 243, 1.0)\",\"rgba(255, 102, 146, 1.0)\",\"rgba(182, 232, 128, 1.0)\",\"rgba(255, 151, 255, 1.0)\",\"rgba(254, 203, 82, 1.0)\"]},\"data\":{\"bar\":[{\"marker\":{\"line\":{\"color\":\"rgba(229, 236, 246, 1.0)\",\"width\":0.5},\"pattern\":{\"fillmode\":\"overlay\",\"size\":10,\"solidity\":0.2}},\"error_x\":{\"color\":\"rgba(42, 63, 95, 1.0)\"},\"error_y\":{\"color\":\"rgba(42, 63, 95, 1.0)\"}}],\"barpolar\":[{\"marker\":{\"line\":{\"color\":\"rgba(229, 236, 246, 1.0)\",\"width\":0.5},\"pattern\":{\"fillmode\":\"overlay\",\"size\":10,\"solidity\":0.2}}}],\"carpet\":[{\"aaxis\":{\"linecolor\":\"rgba(255, 255, 255, 1.0)\",\"gridcolor\":\"rgba(255, 255, 255, 1.0)\",\"endlinecolor\":\"rgba(42, 63, 95, 1.0)\",\"minorgridcolor\":\"rgba(255, 255, 255, 1.0)\",\"startlinecolor\":\"rgba(42, 63, 95, 1.0)\"},\"baxis\":{\"linecolor\":\"rgba(255, 255, 255, 1.0)\",\"gridcolor\":\"rgba(255, 255, 255, 1.0)\",\"endlinecolor\":\"rgba(42, 63, 95, 1.0)\",\"minorgridcolor\":\"rgba(255, 255, 255, 1.0)\",\"startlinecolor\":\"rgba(42, 63, 95, 1.0)\"}}],\"choropleth\":[{\"colorbar\":{\"outlinewidth\":0.0,\"ticks\":\"\"},\"colorscale\":[[0.0,\"#0d0887\"],[0.1111111111111111,\"#46039f\"],[0.2222222222222222,\"#7201a8\"],[0.3333333333333333,\"#9c179e\"],[0.4444444444444444,\"#bd3786\"],[0.5555555555555556,\"#d8576b\"],[0.6666666666666666,\"#ed7953\"],[0.7777777777777778,\"#fb9f3a\"],[0.8888888888888888,\"#fdca26\"],[1.0,\"#f0f921\"]]}],\"contour\":[{\"colorbar\":{\"outlinewidth\":0.0,\"ticks\":\"\"},\"colorscale\":[[0.0,\"#0d0887\"],[0.1111111111111111,\"#46039f\"],[0.2222222222222222,\"#7201a8\"],[0.3333333333333333,\"#9c179e\"],[0.4444444444444444,\"#bd3786\"],[0.5555555555555556,\"#d8576b\"],[0.6666666666666666,\"#ed7953\"],[0.7777777777777778,\"#fb9f3a\"],[0.8888888888888888,\"#fdca26\"],[1.0,\"#f0f921\"]]}],\"contourcarpet\":[{\"colorbar\":{\"outlinewidth\":0.0,\"ticks\":\"\"}}],\"heatmap\":[{\"colorbar\":{\"outlinewidth\":0.0,\"ticks\":\"\"},\"colorscale\":[[0.0,\"#0d0887\"],[0.1111111111111111,\"#46039f\"],[0.2222222222222222,\"#7201a8\"],[0.3333333333333333,\"#9c179e\"],[0.4444444444444444,\"#bd3786\"],[0.5555555555555556,\"#d8576b\"],[0.6666666666666666,\"#ed7953\"],[0.7777777777777778,\"#fb9f3a\"],[0.8888888888888888,\"#fdca26\"],[1.0,\"#f0f921\"]]}],\"heatmapgl\":[{\"colorbar\":{\"outlinewidth\":0.0,\"ticks\":\"\"},\"colorscale\":[[0.0,\"#0d0887\"],[0.1111111111111111,\"#46039f\"],[0.2222222222222222,\"#7201a8\"],[0.3333333333333333,\"#9c179e\"],[0.4444444444444444,\"#bd3786\"],[0.5555555555555556,\"#d8576b\"],[0.6666666666666666,\"#ed7953\"],[0.7777777777777778,\"#fb9f3a\"],[0.8888888888888888,\"#fdca26\"],[1.0,\"#f0f921\"]]}],\"histogram\":[{\"marker\":{\"pattern\":{\"fillmode\":\"overlay\",\"size\":10,\"solidity\":0.2}}}],\"histogram2d\":[{\"colorbar\":{\"outlinewidth\":0.0,\"ticks\":\"\"},\"colorscale\":[[0.0,\"#0d0887\"],[0.1111111111111111,\"#46039f\"],[0.2222222222222222,\"#7201a8\"],[0.3333333333333333,\"#9c179e\"],[0.4444444444444444,\"#bd3786\"],[0.5555555555555556,\"#d8576b\"],[0.6666666666666666,\"#ed7953\"],[0.7777777777777778,\"#fb9f3a\"],[0.8888888888888888,\"#fdca26\"],[1.0,\"#f0f921\"]]}],\"histogram2dcontour\":[{\"colorbar\":{\"outlinewidth\":0.0,\"ticks\":\"\"},\"colorscale\":[[0.0,\"#0d0887\"],[0.1111111111111111,\"#46039f\"],[0.2222222222222222,\"#7201a8\"],[0.3333333333333333,\"#9c179e\"],[0.4444444444444444,\"#bd3786\"],[0.5555555555555556,\"#d8576b\"],[0.6666666666666666,\"#ed7953\"],[0.7777777777777778,\"#fb9f3a\"],[0.8888888888888888,\"#fdca26\"],[1.0,\"#f0f921\"]]}],\"mesh3d\":[{\"colorbar\":{\"outlinewidth\":0.0,\"ticks\":\"\"}}],\"parcoords\":[{\"line\":{\"colorbar\":{\"outlinewidth\":0.0,\"ticks\":\"\"}}}],\"pie\":[{\"automargin\":true}],\"scatter\":[{\"marker\":{\"colorbar\":{\"outlinewidth\":0.0,\"ticks\":\"\"}}}],\"scatter3d\":[{\"marker\":{\"colorbar\":{\"outlinewidth\":0.0,\"ticks\":\"\"}},\"line\":{\"colorbar\":{\"outlinewidth\":0.0,\"ticks\":\"\"}}}],\"scattercarpet\":[{\"marker\":{\"colorbar\":{\"outlinewidth\":0.0,\"ticks\":\"\"}}}],\"scattergeo\":[{\"marker\":{\"colorbar\":{\"outlinewidth\":0.0,\"ticks\":\"\"}}}],\"scattergl\":[{\"marker\":{\"colorbar\":{\"outlinewidth\":0.0,\"ticks\":\"\"}}}],\"scattermapbox\":[{\"marker\":{\"colorbar\":{\"outlinewidth\":0.0,\"ticks\":\"\"}}}],\"scatterpolar\":[{\"marker\":{\"colorbar\":{\"outlinewidth\":0.0,\"ticks\":\"\"}}}],\"scatterpolargl\":[{\"marker\":{\"colorbar\":{\"outlinewidth\":0.0,\"ticks\":\"\"}}}],\"scatterternary\":[{\"marker\":{\"colorbar\":{\"outlinewidth\":0.0,\"ticks\":\"\"}}}],\"surface\":[{\"colorbar\":{\"outlinewidth\":0.0,\"ticks\":\"\"},\"colorscale\":[[0.0,\"#0d0887\"],[0.1111111111111111,\"#46039f\"],[0.2222222222222222,\"#7201a8\"],[0.3333333333333333,\"#9c179e\"],[0.4444444444444444,\"#bd3786\"],[0.5555555555555556,\"#d8576b\"],[0.6666666666666666,\"#ed7953\"],[0.7777777777777778,\"#fb9f3a\"],[0.8888888888888888,\"#fdca26\"],[1.0,\"#f0f921\"]]}],\"table\":[{\"cells\":{\"fill\":{\"color\":\"rgba(235, 240, 248, 1.0)\"},\"line\":{\"color\":\"rgba(255, 255, 255, 1.0)\"}},\"header\":{\"fill\":{\"color\":\"rgba(200, 212, 227, 1.0)\"},\"line\":{\"color\":\"rgba(255, 255, 255, 1.0)\"}}}]}}};\r\n",
       "            var config = {\"responsive\":true};\r\n",
       "            Plotly.newPlot('34777b40-7f55-4fea-8751-a6c2c8e843fd', data, layout, config);\r\n",
       "});\r\n",
       "            };\r\n",
       "            if ((typeof(requirejs) !==  typeof(Function)) || (typeof(requirejs.config) !== typeof(Function))) {\r\n",
       "                var script = document.createElement(\"script\");\r\n",
       "                script.setAttribute(\"src\", \"https://cdnjs.cloudflare.com/ajax/libs/require.js/2.3.6/require.min.js\");\r\n",
       "                script.onload = function(){\r\n",
       "                    renderPlotly_34777b407f554fea8751a6c2c8e843fd();\r\n",
       "                };\r\n",
       "                document.getElementsByTagName(\"head\")[0].appendChild(script);\r\n",
       "            }\r\n",
       "            else {\r\n",
       "                renderPlotly_34777b407f554fea8751a6c2c8e843fd();\r\n",
       "            }\r\n",
       "</script>\r\n",
       "\r\n",
       "    \r\n",
       "</div    \r\n"
      ]
     },
     "metadata": {},
     "output_type": "display_data"
    }
   ],
   "source": [
    "// Data cleanup\n",
    "\n",
    "let df =\n",
    "    (benchmarkData.[0] |> snd, benchmarkData.[1..])\n",
    "    ||> List.fold (fun df (_, df2) ->\n",
    "        df.Append(df2.Rows)\n",
    "    )\n",
    "\n",
    "let x =\n",
    "    benchmarkData\n",
    "    |> List.map (fun (name, _) -> name)\n",
    "\n",
    "let meanColumn = df.Columns.[\"Mean\"]\n",
    "let allocatedColumn = df.Columns.[\"Allocated\"]\n",
    "\n",
    "let y1 =\n",
    "    [\n",
    "        for i = 0L to meanColumn.Length - 1L do\n",
    "            meanColumn.[i] :?> string\n",
    "            |> parseMilliseconds\n",
    "    ]\n",
    "let meanData = (x, y1) ||> List.zip |> List.rev\n",
    "let y2 =\n",
    "    [\n",
    "        for i = 0L to allocatedColumn.Length - 1L do\n",
    "            allocatedColumn.[i] :?> string\n",
    "            |> parseAllocated\n",
    "    ]\n",
    "let allocatedData = (x, y2) ||> List.zip |> List.rev\n",
    "\n",
    "// Charts\n",
    "\n",
    "let meanLine = Chart.Line(meanData, Name=\"Mean (ms)\")\n",
    "let allocatedLine = Chart.Line(allocatedData, Name=\"Allocated (MB)\")\n",
    "\n",
    "Chart.combine([meanLine;allocatedLine])"
   ]
  },
  {
   "cell_type": "code",
   "execution_count": null,
   "metadata": {
    "dotnet_interactive": {
     "language": "fsharp"
    },
    "vscode": {
     "languageId": "dotnet-interactive.fsharp"
    }
   },
   "outputs": [],
   "source": []
  }
 ],
 "metadata": {
  "kernelspec": {
   "display_name": ".NET (C#)",
   "language": "C#",
   "name": ".net-csharp"
  },
  "language_info": {
   "file_extension": ".cs",
   "mimetype": "text/x-csharp",
   "name": "C#",
   "pygments_lexer": "csharp",
   "version": "9.0"
  },
  "orig_nbformat": 4
 },
 "nbformat": 4,
 "nbformat_minor": 2
}
