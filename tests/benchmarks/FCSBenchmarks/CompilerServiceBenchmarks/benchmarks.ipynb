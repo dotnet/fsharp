{
  "cells": [
    {
      "cell_type": "code",
      "execution_count": null,
      "metadata": {
        "dotnet_interactive": {
          "language": "pwsh"
        },
        "vscode": {
          "languageId": "polyglot-notebook"
        }
      },
      "outputs": [],
      "source": [
        "#!pwsh\n",
        "dotnet build -c release\n"
      ]
    },
    {
      "cell_type": "code",
      "execution_count": null,
      "metadata": {
        "dotnet_interactive": {
          "language": "fsharp"
        },
        "vscode": {
          "languageId": "polyglot-notebook"
        }
      },
      "outputs": [],
      "source": [
        "#r \"../../../artifacts/bin/FSharp.Compiler.Benchmarks/Release/net8.0/FSharp.Compiler.Benchmarks.dll\"\n",
        "#r \"../../../artifacts/bin/FSharp.Compiler.Benchmarks/Release/net8.0/BenchmarkDotNet.dll\""
      ]
    },
    {
      "cell_type": "code",
      "execution_count": null,
      "metadata": {
        "dotnet_interactive": {
          "language": "fsharp"
        },
        "vscode": {
          "languageId": "polyglot-notebook"
        }
      },
      "outputs": [],
      "source": [
        "open BenchmarkDotNet.Running\n",
        "open FSharp.Compiler.Benchmarks\n",
        "\n",
        "let summary = BenchmarkRunner.Run<TypeCheckingBenchmark1>()"
      ]
    },
    {
      "cell_type": "code",
      "execution_count": null,
      "metadata": {
        "dotnet_interactive": {
          "language": "fsharp"
        },
        "vscode": {
          "languageId": "polyglot-notebook"
        }
      },
      "outputs": [],
      "source": [
        "// https://benchmarkdotnet.org/api/BenchmarkDotNet.Reports.BenchmarkReport.html\n",
        "#r \"nuget: XPlot.Plotly.Interactive, 4.0.2\"\n",
        "\n",
        "open XPlot.Plotly\n",
        "\n",
        "let gcStats = summary.Reports |> Seq.map (fun x -> x.GcStats)\n",
        "\n",
        "let gen0Series =\n",
        "    Bar(\n",
        "        name = \"Gen 0\",\n",
        "        y = (gcStats |> Seq.map (fun x -> x.Gen0Collections))\n",
        "    )\n",
        "\n",
        "let gen1Series =\n",
        "    Bar(\n",
        "        name = \"Gen 1\",\n",
        "        y = (gcStats |> Seq.map (fun x -> x.Gen1Collections))\n",
        "    )\n",
        "\n",
        "let gen2Series =\n",
        "    Bar(\n",
        "        name = \"Gen 2\",\n",
        "        y = (gcStats |> Seq.map (fun x -> x.Gen2Collections))\n",
        "    )\n",
        "\n",
        "[gen0Series;gen1Series;gen2Series]\n",
        "|> Chart.Plot\n",
        "|> Chart.WithTitle(\"F# Type-Checking Benchmark 1 - GC Collection Counts\")"
      ]
    }
  ],
  "metadata": {
    "kernelspec": {
      "display_name": ".NET (C#)",
      "language": "C#",
      "name": ".net-csharp"
    },
    "language_info": {
      "file_extension": ".cs",
      "mimetype": "text/x-csharp",
      "name": "C#",
      "pygments_lexer": "csharp",
      "version": "9.0"
    },
    "orig_nbformat": 4
  },
  "nbformat": 4,
  "nbformat_minor": 2
}
