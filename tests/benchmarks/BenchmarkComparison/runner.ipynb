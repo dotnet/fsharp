{
 "cells": [
  {
   "cell_type": "code",
   "execution_count": null,
   "source": [
    "open System.IO\r\n",
    "open System.Diagnostics\r\n",
    "\r\n",
    "let run name args =\r\n",
    "    let info = ProcessStartInfo()\r\n",
    "    info.Arguments <- args\r\n",
    "    info.FileName <- name\r\n",
    "    info.UseShellExecute <- false\r\n",
    "    let p = Process.Start(info)\r\n",
    "    p.WaitForExit()\r\n",
    "\r\n",
    "let resultsTypeCheckingBenchmark1Path = Path.Combine(__SOURCE_DIRECTORY__, \"BenchmarkDotNet.Artifacts\\\\results\\\\BenchmarkComparison.TypeCheckingBenchmark1-report.csv\")\r\n",
    "\r\n",
    "run \"dotnet\" \"run -c Release --project run_current.fsproj\"\r\n",
    "let results_current = File.ReadAllText(resultsTypeCheckingBenchmark1Path)\r\n",
    "printfn \"Current Done\"\r\n",
    "run \"dotnet\" \"run -c Release --project run_40_0_0.fsproj\"\r\n",
    "let results_40_0_0 = File.ReadAllText(resultsTypeCheckingBenchmark1Path)\r\n",
    "printfn \"40.0.0 Done\"\r\n",
    "run \"dotnet\" \"run -c Release --project run_35_0_0.fsproj\"\r\n",
    "let results_35_0_0 = File.ReadAllText(resultsTypeCheckingBenchmark1Path)\r\n",
    "printfn \"35.0.0 Done\"\r\n",
    "run \"dotnet\" \"run -c Release --project run_30_0_0.fsproj\"\r\n",
    "let results_30_0_0 = File.ReadAllText(resultsTypeCheckingBenchmark1Path)\r\n",
    "printfn \"30.0.0 Done\"\r\n",
    "run \"dotnet\" \"run -c Release --project run_25_0_1.fsproj\"\r\n",
    "let results_25_0_1 = File.ReadAllText(resultsTypeCheckingBenchmark1Path)\r\n",
    "printfn \"25.0.1 Done\"\r\n",
    "run \"dotnet\" \"run -c Release --project run_20_0_1.fsproj\"\r\n",
    "let results_20_0_1 = File.ReadAllText(resultsTypeCheckingBenchmark1Path)\r\n",
    "printfn \"20.0.1 Done\"\r\n",
    "run \"dotnet\" \"run -c Release --project run_13_0_0.fsproj\"\r\n",
    "let results_13_0_0 = File.ReadAllText(resultsTypeCheckingBenchmark1Path)\r\n",
    "printfn \"13.0.0 Done\""
   ],
   "outputs": [],
   "metadata": {
    "dotnet_interactive": {
     "language": "fsharp"
    }
   }
  },
  {
   "cell_type": "code",
   "execution_count": null,
   "source": [
    "#r \"nuget: Plotly.NET, 2.0.0-preview.6\"\r\n",
    "#r \"nuget: Plotly.NET.Interactive, 2.0.0-preview.6\"\r\n",
    "#r \"nuget: Microsoft.Data.Analysis, 0.18.0\"\r\n",
    "\r\n",
    "open Microsoft.Data.Analysis\r\n",
    "open Plotly.NET\r\n",
    "\r\n",
    "let df_current = DataFrame.LoadCsvFromString(results_current)\r\n",
    "let df_40_0_0 = DataFrame.LoadCsvFromString(results_40_0_0)\r\n",
    "let df_35_0_0 = DataFrame.LoadCsvFromString(results_35_0_0)\r\n",
    "let df_30_0_0 = DataFrame.LoadCsvFromString(results_30_0_0)\r\n",
    "let df_25_0_1 = DataFrame.LoadCsvFromString(results_25_0_1)\r\n",
    "let df_20_0_1 = DataFrame.LoadCsvFromString(results_20_0_1)\r\n",
    "let df_13_0_0 = DataFrame.LoadCsvFromString(results_13_0_0)\r\n",
    "\r\n",
    "let df = df_current.Append(df_40_0_0.Rows).Append(df_35_0_0.Rows).Append(df_30_0_0.Rows).Append(df_25_0_1.Rows).Append(df_20_0_1.Rows).Append(df_13_0_0.Rows)"
   ],
   "outputs": [],
   "metadata": {
    "dotnet_interactive": {
     "language": "fsharp"
    }
   }
  },
  {
   "cell_type": "code",
   "execution_count": null,
   "source": [
    "// Data cleanup\r\n",
    "\r\n",
    "let meanColumn = df.Columns.[\"Mean\"]\r\n",
    "let allocatedColumn = df.Columns.[\"Allocated\"]\r\n",
    "\r\n",
    "let parseMilliseconds (str: string) =\r\n",
    "    if str.Contains(\" ms\") then\r\n",
    "        Single.Parse(str.Replace(\" ms\", \"\"))\r\n",
    "    elif str.Contains(\" s\") then\r\n",
    "        Single.Parse(str.Replace(\" s\", \"\")) * 1000.f\r\n",
    "    else\r\n",
    "        failwith \"Invalid string\"\r\n",
    "\r\n",
    "let parseAllocated (str: string) =\r\n",
    "    if str.Contains(\" MB\") then\r\n",
    "        Single.Parse(str.Replace(\" MB\", \"\"))\r\n",
    "    elif str.Contains(\" KB\") then\r\n",
    "        Single.Parse(str.Replace(\" KB\", \"\")) / 1024.f\r\n",
    "    else\r\n",
    "        failwith \"Invalid string\"\r\n",
    "\r\n",
    "let x =\r\n",
    "    [\r\n",
    "        \"Current (Today)\"\r\n",
    "        \"40.0.0 (6/22/2021)\"\r\n",
    "        \"35.0.0 (4/10/2020)\"\r\n",
    "        \"30.0.0 (6/29/2019)\"\r\n",
    "        \"25.0.1 (9/5/2018)\"\r\n",
    "        \"20.0.1 (2/21/2018)\"\r\n",
    "        \"13.0.0 (6/28/2017)\"\r\n",
    "    ]\r\n",
    "\r\n",
    "let y1 =\r\n",
    "    [\r\n",
    "        for i = 0L to meanColumn.Length - 1L do\r\n",
    "            meanColumn.[i] :?> string\r\n",
    "            |> parseMilliseconds\r\n",
    "    ]\r\n",
    "let meanData = (x, y1) ||> List.zip |> List.rev\r\n",
    "let y2 =\r\n",
    "    [\r\n",
    "        for i = 0L to allocatedColumn.Length - 1L do\r\n",
    "            allocatedColumn.[i] :?> string\r\n",
    "            |> parseAllocated\r\n",
    "    ]\r\n",
    "let allocatedData = (x, y2) ||> List.zip |> List.rev"
   ],
   "outputs": [],
   "metadata": {
    "dotnet_interactive": {
     "language": "fsharp"
    }
   }
  },
  {
   "cell_type": "code",
   "execution_count": null,
   "source": [
    "// Charts\r\n",
    "\r\n",
    "let meanLine = Chart.Line(meanData, Name=\"Mean (ms)\")\r\n",
    "let allocatedLine = Chart.Line(allocatedData, Name=\"Allocated (MB)\")\r\n",
    "\r\n",
    "Chart.Combine([meanLine;allocatedLine])"
   ],
   "outputs": [],
   "metadata": {
    "dotnet_interactive": {
     "language": "fsharp"
    }
   }
  }
 ],
 "metadata": {
  "orig_nbformat": 4,
  "language_info": {
   "file_extension": ".cs",
   "mimetype": "text/x-csharp",
   "name": "C#",
   "pygments_lexer": "csharp",
   "version": "9.0"
  },
  "kernelspec": {
   "display_name": ".NET (C#)",
   "language": "C#",
   "name": ".net-csharp"
  }
 },
 "nbformat": 4,
 "nbformat_minor": 2
}