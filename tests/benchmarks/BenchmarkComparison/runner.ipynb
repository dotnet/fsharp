{
 "cells": [
  {
   "cell_type": "code",
   "execution_count": null,
   "source": [
    "#r \"nuget: Plotly.NET, 2.0.0-preview.6\"\r\n",
    "#r \"nuget: Plotly.NET.Interactive, 2.0.0-preview.6\"\r\n",
    "#r \"nuget: Microsoft.Data.Analysis, 0.18.0\"\r\n",
    "\r\n",
    "open System.IO\r\n",
    "open System.Diagnostics\r\n",
    "open Microsoft.Data.Analysis\r\n",
    "open Plotly.NET\r\n",
    "\r\n",
    "let parseMilliseconds (str: string) =\r\n",
    "    if str.Contains(\" ms\") then\r\n",
    "        Single.Parse(str.Replace(\" ms\", \"\"))\r\n",
    "    elif str.Contains(\" s\") then\r\n",
    "        Single.Parse(str.Replace(\" s\", \"\")) * 1000.f\r\n",
    "    else\r\n",
    "        failwith \"Invalid string\"\r\n",
    "\r\n",
    "let parseAllocated (str: string) =\r\n",
    "    if str.Contains(\" MB\") then\r\n",
    "        Single.Parse(str.Replace(\" MB\", \"\"))\r\n",
    "    elif str.Contains(\" KB\") then\r\n",
    "        Single.Parse(str.Replace(\" KB\", \"\")) / 1024.f\r\n",
    "    else\r\n",
    "        failwith \"Invalid string\"\r\n",
    "\r\n",
    "let run name args =\r\n",
    "    let info = ProcessStartInfo()\r\n",
    "    info.Arguments <- args\r\n",
    "    info.FileName <- name\r\n",
    "    info.UseShellExecute <- false\r\n",
    "    let p = Process.Start(info)\r\n",
    "    p.WaitForExit()\r\n",
    "    if p.ExitCode <> 0 then\r\n",
    "        failwith $\"{name} {args} failed.\"\r\n",
    "\r\n",
    "let resultsPath = Path.Combine(__SOURCE_DIRECTORY__, \"BenchmarkDotNet.Artifacts\\\\results\\\\BenchmarkComparison.TypeCheckingBenchmark1-report.csv\")\r\n",
    "\r\n",
    "let ORIGINAL_DIRECTORY = __SOURCE_DIRECTORY__\r\n",
    "\r\n",
    "let benchmarkCurrent(): string * DataFrame =\r\n",
    "    run \"dotnet\" \"run -c Release --project run_current.fsproj\"\r\n",
    "    let df = DataFrame.LoadCsv(resultsPath)\r\n",
    "    printfn \"Current (Today) Done\"\r\n",
    "    (\"Current (Today)\", df)\r\n",
    "\r\n",
    "let benchmarkVersion (name: string) (version: string) (constants: string): string * DataFrame =\r\n",
    "    try File.Delete(Path.Combine(__SOURCE_DIRECTORY__, \"setup.fsproj\")) with | _ -> ()\r\n",
    "    try\r\n",
    "        printfn $\"Benchmarking {name}...\"\r\n",
    "        let setupTemplate = File.ReadAllText(Path.Combine(__SOURCE_DIRECTORY__, \"setup_version_template.fsproj\"))\r\n",
    "        let setup = setupTemplate.Replace(\"{TEMPLATE_FCS_VERSION}\", version).Replace(\"{TEMPLATE_DEFINE_CONSTANTS}\", constants)\r\n",
    "        File.WriteAllText(Path.Combine(__SOURCE_DIRECTORY__, \"setup.fsproj\"), setup)\r\n",
    "        run \"dotnet\" \"run -c Release --project run.fsproj\"\r\n",
    "\r\n",
    "        let df = DataFrame.LoadCsv(resultsPath)\r\n",
    "        printfn $\"{name} Done\"\r\n",
    "        (name, df)\r\n",
    "    finally\r\n",
    "        try File.Delete(Path.Combine(__SOURCE_DIRECTORY__, \"setup.fsproj\")) with | _ -> ()\r\n",
    "\r\n",
    "let benchmarkCommit (commitHash: string) (constants: string): string * DataFrame =\r\n",
    "    try File.Delete(Path.Combine(__SOURCE_DIRECTORY__, \"setup.fsproj\")) with | _ -> ()\r\n",
    "    let tmp = Path.GetTempFileName()\r\n",
    "    try File.Delete(tmp) with | _ -> ()\r\n",
    "    let tmpDir = Path.Combine(Path.GetDirectoryName(tmp), Path.GetFileNameWithoutExtension(tmp))\r\n",
    "    Directory.CreateDirectory(tmpDir) |> ignore\r\n",
    "\r\n",
    "    try\r\n",
    "        let fcsPath = Path.Combine(tmpDir, \"fsharp/src/fsharp/FSharp.Compiler.Service/FSharp.Compiler.Service.fsproj\")\r\n",
    "        let fcsOutputPath = Path.Combine(tmpDir, \"fsharp/artifacts/bin/FSharp.Compiler.Service/Release/netstandard2.0/FSharp.Compiler.Service.dll\")\r\n",
    "        printfn $\"Cloning 'dotnet/fsharp.git' in '{tmpDir}'...\"\r\n",
    "        run \"git\" $\"clone https://github.com/dotnet/fsharp.git {tmpDir}\"\r\n",
    "        Environment.CurrentDirectory <- tmpDir\r\n",
    "        printfn $\"Switching to '{commitHash}'...\"\r\n",
    "        run \"git\" $\"reset --hard {commitHash}\"\r\n",
    "        Environment.CurrentDirectory <- ORIGINAL_DIRECTORY\r\n",
    "        printfn \"Building FSharp.Compiler.Service.fsproj...\"\r\n",
    "        run \"dotnet\" $\"build -c Release {fcsPath}\"\r\n",
    "        \r\n",
    "        printfn $\"Benchmarking {commitHash}...\"\r\n",
    "        let setupTemplate = File.ReadAllText(Path.Combine(__SOURCE_DIRECTORY__, \"setup_commit_template.fsproj\"))\r\n",
    "        let setup = setupTemplate.Replace(\"{TEMPLATE_FCS_PATH}\", fcsOutputPath).Replace(\"{TEMPLATE_DEFINE_CONSTANTS}\", constants)\r\n",
    "        File.WriteAllText(Path.Combine(__SOURCE_DIRECTORY__, \"setup.fsproj\"), setup)\r\n",
    "        run \"dotnet\" \"run -c Release --project run.fsproj\"\r\n",
    "\r\n",
    "        let df = DataFrame.LoadCsv(resultsPath)\r\n",
    "        printfn $\"{commitHash} Done\"\r\n",
    "        (commitHash, df)\r\n",
    "    finally\r\n",
    "        Environment.CurrentDirectory <- ORIGINAL_DIRECTORY\r\n",
    "        try File.Delete(Path.Combine(__SOURCE_DIRECTORY__, \"setup.fsproj\")) with | _ -> ()\r\n",
    "        try Directory.Delete(tmpDir) with | _ -> ()\r\n",
    "        \r\n",
    "\r\n",
    "let benchmarkData =\r\n",
    "    [\r\n",
    "      //  benchmarkCurrent()\r\n",
    "        benchmarkCommit \"ffbc0d410c776ad108811dcc9f01f3185e9a6e92\" \"\"\r\n",
    "        // benchmarkVersion \"40.0.0 (6/22/2021)\" \"40.0.0\" \"\"\r\n",
    "        // benchmarkVersion \"35.0.0 (4/10/2020)\" \"35.0.0\" \"SERVICE_30_0_0\"\r\n",
    "        // benchmarkVersion \"30.0.0 (6/29/2019)\" \"30.0.0\" \"SERVICE_30_0_0\"\r\n",
    "        // benchmarkVersion \"25.0.1 (9/5/2018)\" \"25.0.1\" \"SERVICE_13_0_0\"\r\n",
    "        // benchmarkVersion \"20.0.1 (2/21/2018)\" \"20.0.1\" \"SERVICE_13_0_0\"\r\n",
    "        // benchmarkVersion \"13.0.0 (6/28/2017)\" \"13.0.0\" \"SERVICE_13_0_0\"\r\n",
    "    ]"
   ],
   "outputs": [
    {
     "data": {
      "text/html": [
       "<div><div></div><div></div><div><strong>Installed Packages</strong><ul><li><span>Microsoft.Data.Analysis, 0.18.0</span></li><li><span>Plotly.NET, 2.0.0-preview.6</span></li><li><span>Plotly.NET.Interactive, 2.0.0-preview.6</span></li></ul></div></div>"
      ]
     },
     "metadata": {},
     "output_type": "display_data"
    },
    {
     "output_type": "stream",
     "name": "stdout",
     "text": [
      "Cloning 'dotnet/fsharp.git' in 'C:\\Users\\lolti\\AppData\\Local\\Temp\\tmp3EAA'...\r\n",
      "Switching to 'ffbc0d410c776ad108811dcc9f01f3185e9a6e92'...\r\n"
     ]
    },
    {
     "output_type": "error",
     "ename": "Error",
     "evalue": "System.Exception: git reset --hard ffbc0d410c776ad108811dcc9f01f3185e9a6e92 C:\\Users\\lolti\\AppData\\Local\\Temp\\tmp3EAA failed.\r\n   at FSI_0075.run(String name, String args)\r\n   at FSI_0075.benchmarkCommit(String commitHash, String constants)\r\n   at <StartupCode$FSI_0075>.$FSI_0075.main@()",
     "traceback": [
      "System.Exception: git reset --hard ffbc0d410c776ad108811dcc9f01f3185e9a6e92 C:\\Users\\lolti\\AppData\\Local\\Temp\\tmp3EAA failed.\r\n",
      "   at FSI_0075.run(String name, String args)\r\n",
      "   at FSI_0075.benchmarkCommit(String commitHash, String constants)\r\n",
      "   at <StartupCode$FSI_0075>.$FSI_0075.main@()"
     ]
    }
   ],
   "metadata": {
    "dotnet_interactive": {
     "language": "fsharp"
    }
   }
  },
  {
   "cell_type": "code",
   "execution_count": null,
   "source": [
    "// Data cleanup\r\n",
    "\r\n",
    "let df =\r\n",
    "    (benchmarkData.[0] |> snd, benchmarkData.[1..])\r\n",
    "    ||> List.fold (fun df (_, df2) ->\r\n",
    "        df.Append(df2.Rows)\r\n",
    "    )\r\n",
    "\r\n",
    "let x =\r\n",
    "    benchmarkData\r\n",
    "    |> List.map (fun (name, _) -> name)\r\n",
    "\r\n",
    "let meanColumn = df.Columns.[\"Mean\"]\r\n",
    "let allocatedColumn = df.Columns.[\"Allocated\"]\r\n",
    "\r\n",
    "let y1 =\r\n",
    "    [\r\n",
    "        for i = 0L to meanColumn.Length - 1L do\r\n",
    "            meanColumn.[i] :?> string\r\n",
    "            |> parseMilliseconds\r\n",
    "    ]\r\n",
    "let meanData = (x, y1) ||> List.zip |> List.rev\r\n",
    "let y2 =\r\n",
    "    [\r\n",
    "        for i = 0L to allocatedColumn.Length - 1L do\r\n",
    "            allocatedColumn.[i] :?> string\r\n",
    "            |> parseAllocated\r\n",
    "    ]\r\n",
    "let allocatedData = (x, y2) ||> List.zip |> List.rev\r\n",
    "\r\n",
    "// Charts\r\n",
    "\r\n",
    "let meanLine = Chart.Line(meanData, Name=\"Mean (ms)\")\r\n",
    "let allocatedLine = Chart.Line(allocatedData, Name=\"Allocated (MB)\")\r\n",
    "\r\n",
    "Chart.Combine([meanLine;allocatedLine])"
   ],
   "outputs": [],
   "metadata": {
    "dotnet_interactive": {
     "language": "fsharp"
    }
   }
  }
 ],
 "metadata": {
  "orig_nbformat": 4,
  "language_info": {
   "file_extension": ".cs",
   "mimetype": "text/x-csharp",
   "name": "C#",
   "pygments_lexer": "csharp",
   "version": "9.0"
  },
  "kernelspec": {
   "display_name": ".NET (C#)",
   "language": "C#",
   "name": ".net-csharp"
  }
 },
 "nbformat": 4,
 "nbformat_minor": 2
}